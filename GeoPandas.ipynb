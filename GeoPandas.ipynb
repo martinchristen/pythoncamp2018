{
 "cells": [
  {
   "cell_type": "markdown",
   "metadata": {
    "slideshow": {
     "slide_type": "slide"
    }
   },
   "source": [
    "# Python Camp 2018: Einführung GeoPandas\n",
    "\n",
    "### Github: https://github.com/martinchristen/pythoncamp2018\n"
   ]
  },
  {
   "cell_type": "markdown",
   "metadata": {
    "slideshow": {
     "slide_type": "slide"
    }
   },
   "source": [
    "## Dokumentation\n",
    "\n",
    "http://geopandas.readthedocs.io\n",
    "\n",
    "\n",
    "## Installation\n",
    "\n",
    "    # Eventuell Python 3.5 verwenden, immer noch bessere Geo-Unterstützung (z.B. GDAL)\n",
    "    conda create -n py35 python=3.5 ipykernel\n",
    "    source activate py35    \n",
    "\n",
    "    conda install geopandas \n",
    "    conda install -c conda-forge folium\n",
    "\n",
    "\n",
    "## Datenquellen für das heutige Tutorial\n",
    "\n",
    "* https://www.bfs.admin.ch/bfs/de/home/dienstleistungen/geostat/geodaten-bundesstatistik.html\n",
    "* https://earthquake.usgs.gov/earthquakes/feed/v1.0/geojson.php\n",
    "* http://www.geonames.org/"
   ]
  },
  {
   "cell_type": "code",
   "execution_count": null,
   "metadata": {
    "collapsed": false,
    "slideshow": {
     "slide_type": "slide"
    }
   },
   "outputs": [],
   "source": [
    "import geopandas as gpd"
   ]
  },
  {
   "cell_type": "markdown",
   "metadata": {
    "slideshow": {
     "slide_type": "notes"
    }
   },
   "source": [
    "Laden eines ESRI Shapefiles, andere Formate, z.B. GeoJSON werden auch unterstützt. Die vollständige Liste unterstützter Vektor-Formate erfolgt über das fiona Modul:\n",
    "\n",
    "    import fiona\n",
    "    fiona.supported_drivers"
   ]
  },
  {
   "cell_type": "code",
   "execution_count": null,
   "metadata": {
    "collapsed": false,
    "slideshow": {
     "slide_type": "notes"
    }
   },
   "outputs": [],
   "source": [
    "import fiona\n",
    "fiona.supported_drivers"
   ]
  },
  {
   "cell_type": "markdown",
   "metadata": {},
   "source": [
    "(Für Vektorformate siehe z.B. auch: http://www.gdal.org/ogr_formats.html )"
   ]
  },
  {
   "cell_type": "markdown",
   "metadata": {},
   "source": [
    "### GeoDataFrame aus einem CSV erstellen\n",
    "\n",
    "Dazu verwenden wir den Datensatz von GeoNames (city5000, Weltweite Städte mit Population > 5000)"
   ]
  },
  {
   "cell_type": "code",
   "execution_count": null,
   "metadata": {
    "collapsed": true
   },
   "outputs": [],
   "source": [
    "from shapely.geometry import Point\n",
    "import pandas as pd"
   ]
  },
  {
   "cell_type": "code",
   "execution_count": null,
   "metadata": {
    "collapsed": true
   },
   "outputs": [],
   "source": [
    "df = pd.read_csv('daten/cities5000.txt', sep=\"\\t\", header=None, low_memory=False)"
   ]
  },
  {
   "cell_type": "code",
   "execution_count": null,
   "metadata": {
    "collapsed": false
   },
   "outputs": [],
   "source": [
    "df.head()"
   ]
  },
  {
   "cell_type": "code",
   "execution_count": null,
   "metadata": {
    "collapsed": false
   },
   "outputs": [],
   "source": [
    "df2 = df[[1,4,5,14,18]]\n",
    "df2.head()"
   ]
  },
  {
   "cell_type": "code",
   "execution_count": null,
   "metadata": {
    "collapsed": true
   },
   "outputs": [],
   "source": [
    "df2.columns = [\"name\", \"lat\", \"lng\", \"population\", \"datum\"]"
   ]
  },
  {
   "cell_type": "code",
   "execution_count": null,
   "metadata": {
    "collapsed": false
   },
   "outputs": [],
   "source": [
    "df2.head()"
   ]
  },
  {
   "cell_type": "code",
   "execution_count": null,
   "metadata": {
    "collapsed": false
   },
   "outputs": [],
   "source": [
    "df2.query(\"name == 'Köln'\")"
   ]
  },
  {
   "cell_type": "markdown",
   "metadata": {},
   "source": [
    "Erstellen eines **GeoDataFrame**"
   ]
  },
  {
   "cell_type": "code",
   "execution_count": null,
   "metadata": {
    "collapsed": true
   },
   "outputs": [],
   "source": [
    "geometry = [Point(pos) for pos in zip(df2['lng'], df2['lat'])]\n",
    "gdf = gpd.GeoDataFrame(df2, geometry=geometry)"
   ]
  },
  {
   "cell_type": "code",
   "execution_count": null,
   "metadata": {
    "collapsed": false
   },
   "outputs": [],
   "source": [
    "gdf.head()"
   ]
  },
  {
   "cell_type": "markdown",
   "metadata": {},
   "source": [
    "dies ist nun ein GeoDataFrame, also eigentlich ein DataFrame (pandas) mit einer Spalte \"geometry\".\n",
    "\n",
    "Die Dokumentation zu geopandas ist auf: http://geopandas.readthedocs.io\n",
    "\n",
    "\n",
    "Wir können das Resultat beispielsweise als Shapefile speichern:"
   ]
  },
  {
   "cell_type": "code",
   "execution_count": null,
   "metadata": {
    "collapsed": true
   },
   "outputs": [],
   "source": [
    "gdf.to_file(\"cities.shp\", driver=\"Shapefile\", encoding=\"utf-8\")"
   ]
  },
  {
   "cell_type": "markdown",
   "metadata": {
    "slideshow": {
     "slide_type": "fragment"
    }
   },
   "source": [
    "## Kantone\n",
    "\n",
    "Das folgende Shapefile ist aus dem Datensatz \"Generalisierte Gemeindegrenzen\" vom Bundesamt für Statistik. Aus Performance-Gründen verwenden wir heute generalisierte Daten. Der detailliertere Datensatz wäre natürlich **swissBOUNDARIES3D** von swisstopo, welcher auch kostenlos bezogen werden kann. ( https://shop.swisstopo.admin.ch/de/products/landscape/boundaries3D )"
   ]
  },
  {
   "cell_type": "code",
   "execution_count": null,
   "metadata": {
    "collapsed": true,
    "slideshow": {
     "slide_type": "fragment"
    }
   },
   "outputs": [],
   "source": [
    "kantone = gpd.read_file(\"daten/kantone.shp\", encoding=\"utf-8\")"
   ]
  },
  {
   "cell_type": "markdown",
   "metadata": {
    "slideshow": {
     "slide_type": "slide"
    }
   },
   "source": [
    "## Überblick des Datensatzes\n",
    "\n",
    "Sehen wir uns die ersten 5 Einträge an. Dies geschieht mit der Methode .head()"
   ]
  },
  {
   "cell_type": "code",
   "execution_count": null,
   "metadata": {
    "collapsed": false,
    "slideshow": {
     "slide_type": "fragment"
    }
   },
   "outputs": [],
   "source": [
    "kantone.head()"
   ]
  },
  {
   "cell_type": "code",
   "execution_count": null,
   "metadata": {
    "collapsed": false,
    "slideshow": {
     "slide_type": "fragment"
    }
   },
   "outputs": [],
   "source": [
    "kantone.columns"
   ]
  },
  {
   "cell_type": "markdown",
   "metadata": {
    "slideshow": {
     "slide_type": "fragment"
    }
   },
   "source": [
    "* Die **Beschreibung** der Attribute ist im PDF des Datensatzes zu finden.\n",
    "\n",
    "* In diesem Datensatz haben wir sehr viele Sachdaten, welche auch eine Geometrie beschreiben. Das ist eigenlich unschön, sehen wir uns das später an."
   ]
  },
  {
   "cell_type": "code",
   "execution_count": null,
   "metadata": {
    "collapsed": false,
    "slideshow": {
     "slide_type": "fragment"
    }
   },
   "outputs": [],
   "source": [
    "kantone.shape"
   ]
  },
  {
   "cell_type": "code",
   "execution_count": null,
   "metadata": {
    "collapsed": false,
    "slideshow": {
     "slide_type": "slide"
    }
   },
   "outputs": [],
   "source": [
    "kantone"
   ]
  },
  {
   "cell_type": "code",
   "execution_count": null,
   "metadata": {
    "collapsed": false,
    "slideshow": {
     "slide_type": "slide"
    }
   },
   "outputs": [],
   "source": [
    "%matplotlib inline\n",
    "kantone.plot(figsize=(15,9));"
   ]
  },
  {
   "cell_type": "code",
   "execution_count": null,
   "metadata": {
    "collapsed": false,
    "slideshow": {
     "slide_type": "slide"
    }
   },
   "outputs": [],
   "source": [
    "kantone.crs"
   ]
  },
  {
   "cell_type": "markdown",
   "metadata": {},
   "source": [
    "Datensatz nach WGS84 konvertieren\n",
    "\n",
    "(Word Geodetic System 1984 - ein globales Referenzsystem der Geodäsie und Navigation)"
   ]
  },
  {
   "cell_type": "code",
   "execution_count": null,
   "metadata": {
    "collapsed": false,
    "slideshow": {
     "slide_type": "slide"
    }
   },
   "outputs": [],
   "source": [
    "kantoneWGS84 = kantone.to_crs(epsg=4326)\n",
    "kantoneWGS84.plot(figsize=(15,9));"
   ]
  },
  {
   "cell_type": "markdown",
   "metadata": {},
   "source": [
    "# Darstellung in Folium\n",
    "\n",
    "(-> Folium Tutorial eventuell am Sonntag am PythonCamp )"
   ]
  },
  {
   "cell_type": "code",
   "execution_count": null,
   "metadata": {
    "collapsed": false
   },
   "outputs": [],
   "source": [
    "import folium\n",
    "\n",
    "center = [47.534018, 7.638423]\n",
    "karte = folium.Map(center, zoom_start=6, tiles='cartodbpositron')   \n",
    "# weitere Karten siehe: https://deparkes.co.uk/2016/06/10/folium-map-tiles/\n",
    "\n",
    "folium.GeoJson(kantoneWGS84).add_to(karte)\n",
    "\n",
    "karte"
   ]
  },
  {
   "cell_type": "code",
   "execution_count": null,
   "metadata": {
    "collapsed": false
   },
   "outputs": [],
   "source": [
    "import folium\n",
    "\n",
    "def my_color_function(feature):\n",
    "    area = feature[\"properties\"][\"AREA_HA\"]\n",
    "    \n",
    "    color = \"#000000\"\n",
    "    \n",
    "    if area >10000:\n",
    "        color = \"#110000\"\n",
    "    if area >40000:\n",
    "        color = \"#440000\"\n",
    "    if area >70000:\n",
    "        color = \"#770000\"\n",
    "    if area >100000:\n",
    "        color = \"#AA0000\"\n",
    "    if area >130000:\n",
    "        color = \"#DD0000\"\n",
    "    if area >160000:\n",
    "        color = \"#FF0000\"\n",
    "    \n",
    "    return color\n",
    "\n",
    "center = [47.534018, 7.638423]\n",
    "karte = folium.Map(center, zoom_start=6, tiles='cartodbpositron')   \n",
    "# weitere Karten siehe: https://deparkes.co.uk/2016/06/10/folium-map-tiles/\n",
    "\n",
    "folium.GeoJson(kantoneWGS84,style_function=lambda feature: {\n",
    "        'fillColor': my_color_function(feature),\n",
    "        'color': 'black',\n",
    "        'weight': 2,\n",
    "        'dashArray': '5, 5'\n",
    "    }).add_to(karte)\n",
    "\n",
    "karte"
   ]
  },
  {
   "cell_type": "code",
   "execution_count": null,
   "metadata": {
    "collapsed": false
   },
   "outputs": [],
   "source": [
    "data = []\n",
    "\n",
    "for i in range(0,len(kantoneWGS84)):\n",
    "    data.append({'fillColor': 'rgb(255,255,0)', 'weight': 2, 'color': 'black'})\n",
    "    \n",
    "kantoneWGS84['style'] = data\n",
    "kantoneWGS84\n"
   ]
  },
  {
   "cell_type": "code",
   "execution_count": null,
   "metadata": {
    "collapsed": false
   },
   "outputs": [],
   "source": [
    "kantoneWGS84.columns"
   ]
  },
  {
   "cell_type": "code",
   "execution_count": null,
   "metadata": {
    "collapsed": false
   },
   "outputs": [],
   "source": [
    "import folium\n",
    "\n",
    "center = [47.534018, 7.638423]\n",
    "karte = folium.Map(center, zoom_start=6, tiles='cartodbpositron')   \n",
    "# weitere Karten siehe: https://deparkes.co.uk/2016/06/10/folium-map-tiles/\n",
    "\n",
    "folium.GeoJson(kantoneWGS84).add_to(karte)\n",
    "karte"
   ]
  },
  {
   "cell_type": "markdown",
   "metadata": {
    "slideshow": {
     "slide_type": "slide"
    }
   },
   "source": [
    "## Abfragen"
   ]
  },
  {
   "cell_type": "markdown",
   "metadata": {
    "slideshow": {
     "slide_type": "fragment"
    }
   },
   "source": [
    "Anlegen eines neuen GeoDataFrames mit reduzierter Anzahl von Attributen"
   ]
  },
  {
   "cell_type": "code",
   "execution_count": null,
   "metadata": {
    "collapsed": true,
    "slideshow": {
     "slide_type": "fragment"
    }
   },
   "outputs": [],
   "source": [
    "kt = kantone[[\"KTNR\",\"KTNAME\", \"AREA_HA\", \"geometry\"]]"
   ]
  },
  {
   "cell_type": "code",
   "execution_count": null,
   "metadata": {
    "collapsed": false,
    "slideshow": {
     "slide_type": "fragment"
    }
   },
   "outputs": [],
   "source": [
    "kt.head()"
   ]
  },
  {
   "cell_type": "markdown",
   "metadata": {
    "slideshow": {
     "slide_type": "slide"
    }
   },
   "source": [
    "Der Datensatz kann nun gespeichert werden, z.B. als ERSI Shapefile"
   ]
  },
  {
   "cell_type": "code",
   "execution_count": null,
   "metadata": {
    "collapsed": true,
    "slideshow": {
     "slide_type": "fragment"
    }
   },
   "outputs": [],
   "source": [
    "kt.to_file(\"kantone_reduziert.shp\", driver=\"Shapefile\", encoding=\"utf-8\")"
   ]
  },
  {
   "cell_type": "code",
   "execution_count": null,
   "metadata": {
    "collapsed": true,
    "slideshow": {
     "slide_type": "slide"
    }
   },
   "outputs": [],
   "source": [
    "kt2 = gpd.read_file(\"kantone_reduziert.shp\", encoding=\"utf-8\")\n",
    "kt2.head()"
   ]
  },
  {
   "cell_type": "code",
   "execution_count": null,
   "metadata": {
    "collapsed": true,
    "slideshow": {
     "slide_type": "fragment"
    }
   },
   "outputs": [],
   "source": [
    "del kt2"
   ]
  },
  {
   "cell_type": "markdown",
   "metadata": {
    "slideshow": {
     "slide_type": "slide"
    }
   },
   "source": [
    "GeoPandas enthält zahlreiche Funktionalität, aus Zeitgründen werden wir heute nur ein paar davon ansehen.\n",
    "\n",
    "Wir sortieren z.B. die Daten nach der Fläche. Weitere Operationen sehen wir mit einem anderen Datensatz an."
   ]
  },
  {
   "cell_type": "code",
   "execution_count": null,
   "metadata": {
    "collapsed": false,
    "slideshow": {
     "slide_type": "fragment"
    }
   },
   "outputs": [],
   "source": [
    "kt.sort_values(['AREA_HA'], ascending=False)"
   ]
  },
  {
   "cell_type": "markdown",
   "metadata": {
    "slideshow": {
     "slide_type": "slide"
    }
   },
   "source": [
    "### Räumliche Abfragen / Operationen"
   ]
  },
  {
   "cell_type": "code",
   "execution_count": null,
   "metadata": {
    "collapsed": true,
    "slideshow": {
     "slide_type": "fragment"
    }
   },
   "outputs": [],
   "source": [
    "from shapely.geometry import Point\n",
    "\n",
    "FHNW = Point(2615044, 1264828)  # Gründenstrasse 40, 4132 Muttenz (LV95)"
   ]
  },
  {
   "cell_type": "code",
   "execution_count": null,
   "metadata": {
    "collapsed": false,
    "slideshow": {
     "slide_type": "fragment"
    }
   },
   "outputs": [],
   "source": [
    "kt.contains(FHNW)"
   ]
  },
  {
   "cell_type": "code",
   "execution_count": null,
   "metadata": {
    "collapsed": false,
    "slideshow": {
     "slide_type": "fragment"
    }
   },
   "outputs": [],
   "source": [
    "kt[kt.contains(FHNW)]"
   ]
  },
  {
   "cell_type": "code",
   "execution_count": null,
   "metadata": {
    "collapsed": false,
    "slideshow": {
     "slide_type": "slide"
    }
   },
   "outputs": [],
   "source": [
    "dist = kt.distance(FHNW) / 1000\n",
    "dist"
   ]
  },
  {
   "cell_type": "code",
   "execution_count": null,
   "metadata": {
    "collapsed": false,
    "slideshow": {
     "slide_type": "fragment"
    }
   },
   "outputs": [],
   "source": [
    "kt = kantone[[\"KTNR\",\"KTNAME\", \"AREA_HA\", \"geometry\"]].copy()\n",
    "kt[\"distance\"] = dist\n",
    "kt"
   ]
  },
  {
   "cell_type": "code",
   "execution_count": null,
   "metadata": {
    "collapsed": false,
    "slideshow": {
     "slide_type": "slide"
    }
   },
   "outputs": [],
   "source": [
    "kt.sort_values([\"distance\"], ascending=True)"
   ]
  },
  {
   "cell_type": "markdown",
   "metadata": {
    "slideshow": {
     "slide_type": "slide"
    }
   },
   "source": [
    "## Visualisierung der Daten (Pandas...)\n",
    "\n",
    "Bar plots, Histograms, Box Plots, Area Plot, Scatter Plot, Hexagonal Bin Plot, Pie plot\n",
    "\n",
    "Siehe auch: https://pandas.pydata.org/pandas-docs/stable/visualization.html\n",
    "\n",
    "Das Thema heute ist jedoch nicht die Visualisierung der Daten, dies ist nur zur Info..."
   ]
  },
  {
   "cell_type": "code",
   "execution_count": null,
   "metadata": {
    "collapsed": false,
    "slideshow": {
     "slide_type": "slide"
    }
   },
   "outputs": [],
   "source": [
    "kt[[\"AREA_HA\"]].hist();"
   ]
  },
  {
   "cell_type": "code",
   "execution_count": null,
   "metadata": {
    "collapsed": false,
    "slideshow": {
     "slide_type": "slide"
    }
   },
   "outputs": [],
   "source": [
    "kt[[\"AREA_HA\"]].hist(bins=20);"
   ]
  },
  {
   "cell_type": "markdown",
   "metadata": {
    "slideshow": {
     "slide_type": "slide"
    }
   },
   "source": [
    "## Nächster Datensatz: Gemeinden\n",
    "\n",
    "Sehen wir uns einen weiteren, Datensatz von BFS an: Aufteilung in Gemeinden"
   ]
  },
  {
   "cell_type": "code",
   "execution_count": null,
   "metadata": {
    "collapsed": true,
    "slideshow": {
     "slide_type": "fragment"
    }
   },
   "outputs": [],
   "source": [
    "gemeinden = gpd.read_file(\"daten/gemeinden.shp\", encoding=\"utf-8\")"
   ]
  },
  {
   "cell_type": "code",
   "execution_count": null,
   "metadata": {
    "collapsed": false,
    "slideshow": {
     "slide_type": "fragment"
    }
   },
   "outputs": [],
   "source": [
    "gemeinden.shape"
   ]
  },
  {
   "cell_type": "code",
   "execution_count": null,
   "metadata": {
    "collapsed": false,
    "slideshow": {
     "slide_type": "subslide"
    }
   },
   "outputs": [],
   "source": [
    "gemeinden.columns"
   ]
  },
  {
   "cell_type": "code",
   "execution_count": null,
   "metadata": {
    "collapsed": false,
    "slideshow": {
     "slide_type": "slide"
    }
   },
   "outputs": [],
   "source": [
    "gem = gemeinden[[\"GMDNAME\", \"GMDNR\", \"KTNR\", \"AREA_HA\", \"geometry\"]]\n",
    "gem.head()"
   ]
  },
  {
   "cell_type": "code",
   "execution_count": null,
   "metadata": {
    "collapsed": false
   },
   "outputs": [],
   "source": [
    "gem.plot(figsize=(15,9))"
   ]
  },
  {
   "cell_type": "code",
   "execution_count": null,
   "metadata": {
    "collapsed": false,
    "slideshow": {
     "slide_type": "slide"
    }
   },
   "outputs": [],
   "source": [
    "for i in range(0,len(gem)):\n",
    "    gs = gem.iloc[i]\n",
    "    if gs.AREA_HA > 20000:\n",
    "        print(gs.GMDNAME, gs.AREA_HA)"
   ]
  },
  {
   "cell_type": "code",
   "execution_count": null,
   "metadata": {
    "collapsed": false,
    "slideshow": {
     "slide_type": "slide"
    }
   },
   "outputs": [],
   "source": [
    "gem[gem.AREA_HA > 20000]"
   ]
  },
  {
   "cell_type": "code",
   "execution_count": null,
   "metadata": {
    "collapsed": false,
    "slideshow": {
     "slide_type": "slide"
    }
   },
   "outputs": [],
   "source": [
    "gem[gem.AREA_HA > 20000].plot()"
   ]
  },
  {
   "cell_type": "markdown",
   "metadata": {},
   "source": [
    "besser: Mehrfachplot..."
   ]
  },
  {
   "cell_type": "code",
   "execution_count": null,
   "metadata": {
    "collapsed": false
   },
   "outputs": [],
   "source": [
    "kantonsplot = kantone.plot(figsize=(15,9), color=\"gray\")\n",
    "gem[gem.AREA_HA > 20000].plot(ax=kantonsplot)"
   ]
  },
  {
   "cell_type": "code",
   "execution_count": null,
   "metadata": {
    "collapsed": true,
    "slideshow": {
     "slide_type": "slide"
    }
   },
   "outputs": [],
   "source": [
    "gem.query(\"AREA_HA > 20000 and AREA_HA < 30000\")"
   ]
  },
  {
   "cell_type": "code",
   "execution_count": null,
   "metadata": {
    "collapsed": true,
    "slideshow": {
     "slide_type": "slide"
    }
   },
   "outputs": [],
   "source": [
    "gem.query(\"GMDNAME == 'Zürich'\")"
   ]
  },
  {
   "cell_type": "code",
   "execution_count": null,
   "metadata": {
    "collapsed": true,
    "slideshow": {
     "slide_type": "slide"
    }
   },
   "outputs": [],
   "source": [
    "gem.query(\"GMDNAME == 'Muttenz'\")"
   ]
  },
  {
   "cell_type": "code",
   "execution_count": null,
   "metadata": {
    "collapsed": true,
    "slideshow": {
     "slide_type": "slide"
    }
   },
   "outputs": [],
   "source": [
    "gem.query(\"GMDNAME == 'Muttenz' or GMDNAME == 'Pratteln'\")"
   ]
  },
  {
   "cell_type": "code",
   "execution_count": null,
   "metadata": {
    "collapsed": true,
    "slideshow": {
     "slide_type": "fragment"
    }
   },
   "outputs": [],
   "source": [
    "gem.query(\"GMDNAME == 'Muttenz' or GMDNAME == 'Pratteln'\").plot()"
   ]
  },
  {
   "cell_type": "code",
   "execution_count": null,
   "metadata": {
    "collapsed": true,
    "slideshow": {
     "slide_type": "slide"
    }
   },
   "outputs": [],
   "source": [
    "gem.query(\"GMDNAME == 'Basel'\").plot(figsize=(16,8), color=\"orange\")"
   ]
  },
  {
   "cell_type": "code",
   "execution_count": null,
   "metadata": {
    "collapsed": true,
    "slideshow": {
     "slide_type": "slide"
    }
   },
   "outputs": [],
   "source": [
    "kantonsplot = kantone.plot(figsize=(15,9), color=\"gray\")\n",
    "\n",
    "basel = gem.query(\"GMDNAME == 'Basel'\")\n",
    "zurich = gem.query(\"GMDNAME == 'Zürich'\")\n",
    "\n",
    "basel.plot(ax=kantonsplot, color=\"orange\")\n",
    "zurich.plot(ax=kantonsplot, color=\"blue\")\n"
   ]
  },
  {
   "cell_type": "code",
   "execution_count": null,
   "metadata": {
    "collapsed": true,
    "slideshow": {
     "slide_type": "slide"
    }
   },
   "outputs": [],
   "source": [
    "kantonsplot = kantone.plot(figsize=(15,9), color=\"gray\")\n",
    "\n",
    "basel = gem.query(\"GMDNAME == 'Basel'\")\n",
    "allzurich = gem.query(\"KTNR == 1\")\n",
    "\n",
    "basel.plot(ax=kantonsplot, color=\"orange\", alpha=0.5)\n",
    "allzurich.plot(ax=kantonsplot, color=\"blue\", alpha=0.25)\n"
   ]
  },
  {
   "cell_type": "markdown",
   "metadata": {
    "collapsed": true,
    "slideshow": {
     "slide_type": "slide"
    }
   },
   "source": [
    "## Live Daten vom Internet: Erdbeben\n",
    "\n",
    "https://earthquake.usgs.gov/earthquakes/feed/v1.0/geojson.php"
   ]
  },
  {
   "cell_type": "code",
   "execution_count": null,
   "metadata": {
    "collapsed": true,
    "slideshow": {
     "slide_type": "fragment"
    }
   },
   "outputs": [],
   "source": [
    "import requests\n",
    "\n",
    "url = \"https://earthquake.usgs.gov/earthquakes/feed/v1.0/summary/2.5_week.geojson\"\n",
    "#url = \"https://earthquake.usgs.gov/earthquakes/feed/v1.0/summary/significant_month.geojson\"\n",
    "#url = \"https://earthquake.usgs.gov/earthquakes/feed/v1.0/summary/2.5_month.geojson\"\n",
    "\n",
    "data = requests.get(url)\n",
    "file = open(\"earthquakes.geojson\",\"wb\")\n",
    "file.write(data.content)\n",
    "file.close()"
   ]
  },
  {
   "cell_type": "markdown",
   "metadata": {},
   "source": [
    "für die Beschreibung der Attribute:\n",
    "\n",
    "https://earthquake.usgs.gov/data/comcat/data-eventterms.php"
   ]
  },
  {
   "cell_type": "code",
   "execution_count": null,
   "metadata": {
    "collapsed": false,
    "slideshow": {
     "slide_type": "slide"
    }
   },
   "outputs": [],
   "source": [
    "erdbeben = gpd.read_file(\"earthquakes.geojson\")\n",
    "erdbeben.head()"
   ]
  },
  {
   "cell_type": "code",
   "execution_count": null,
   "metadata": {
    "collapsed": false,
    "slideshow": {
     "slide_type": "fragment"
    }
   },
   "outputs": [],
   "source": [
    "erdbeben.shape"
   ]
  },
  {
   "cell_type": "code",
   "execution_count": null,
   "metadata": {
    "collapsed": false,
    "slideshow": {
     "slide_type": "fragment"
    }
   },
   "outputs": [],
   "source": [
    "erdbeben.columns"
   ]
  },
  {
   "cell_type": "code",
   "execution_count": null,
   "metadata": {
    "collapsed": false,
    "slideshow": {
     "slide_type": "fragment"
    }
   },
   "outputs": [],
   "source": [
    "eb = erdbeben[[\"time\",\"mag\", \"place\",\"geometry\"]].copy()\n",
    "eb.head()"
   ]
  },
  {
   "cell_type": "code",
   "execution_count": null,
   "metadata": {
    "collapsed": false,
    "slideshow": {
     "slide_type": "slide"
    }
   },
   "outputs": [],
   "source": [
    "eb.mag.hist(bins=32);"
   ]
  },
  {
   "cell_type": "code",
   "execution_count": null,
   "metadata": {
    "collapsed": false,
    "slideshow": {
     "slide_type": "slide"
    }
   },
   "outputs": [],
   "source": [
    "from datetime import datetime, timezone\n",
    "\n",
    "data = []\n",
    "for zeile in range(0,len(eb)):\n",
    "    time = eb.iloc[zeile].time\n",
    "    t = str(datetime.fromtimestamp(time/1000.0, timezone.utc))\n",
    "    data.append(t)\n",
    "    \n",
    "eb[\"time_utc\"] = data\n",
    "eb.head()"
   ]
  },
  {
   "cell_type": "markdown",
   "metadata": {
    "slideshow": {
     "slide_type": "slide"
    }
   },
   "source": [
    "### Nach Magnitude (mag) sortieren"
   ]
  },
  {
   "cell_type": "code",
   "execution_count": null,
   "metadata": {
    "collapsed": false,
    "slideshow": {
     "slide_type": "fragment"
    }
   },
   "outputs": [],
   "source": [
    "eb.sort_values([\"mag\"], ascending=False).head()"
   ]
  },
  {
   "cell_type": "code",
   "execution_count": null,
   "metadata": {
    "collapsed": false,
    "slideshow": {
     "slide_type": "slide"
    }
   },
   "outputs": [],
   "source": [
    "eb.plot()"
   ]
  },
  {
   "cell_type": "code",
   "execution_count": null,
   "metadata": {
    "collapsed": false
   },
   "outputs": [],
   "source": [
    "gdfContinents=gpd.read_file(\"daten/continent.shp\", encoding=\"utf-8\")\n",
    "gdfContinents.head()"
   ]
  },
  {
   "cell_type": "code",
   "execution_count": null,
   "metadata": {
    "collapsed": false,
    "slideshow": {
     "slide_type": "slide"
    }
   },
   "outputs": [],
   "source": [
    "continents = gdfContinents.plot(figsize=(15,9), color=\"black\")\n",
    "eb.plot(ax=continents, color=\"red\", markersize=10);"
   ]
  },
  {
   "cell_type": "markdown",
   "metadata": {
    "slideshow": {
     "slide_type": "slide"
    }
   },
   "source": [
    "## Hinweise\n",
    "\n",
    "Die Shapefiles vom BFS sind scheinbar nicht korrekt kodiert und wurden folgendermassen bereinigt (Beispiel Kantone):\n",
    "\n",
    "    kantone = gpd.read_file(\"data/kantone.shp\", encoding=\"utf-8\")  \n",
    "    kopie_kantone = kantone.iloc[0:0]   # Spalten behalten\n",
    "\n",
    "    data = []\n",
    "    for i, j in kantone.iterrows():\n",
    "        j[1] = j[1].encode(\"cp1252\").decode(\"utf-8\")\n",
    "        data.append(j)\n",
    "\n",
    "    kopie_kantone = kopie_kantone.append(data)\n",
    "    kopie_kantone\n",
    "\n",
    "    kopie_kantone.to_file(\"data/kantone2.shp\", driver=\"Shapefile\", encoding=\"utf-8\")\n"
   ]
  },
  {
   "cell_type": "markdown",
   "metadata": {
    "collapsed": true
   },
   "source": [
    "### GeoPandas und PostGIS\n",
    "\n",
    "    import geopandas as gpd\n",
    "    import psycopg2\n",
    "\n",
    "    con = psycopg2.connect(database=\"db\", user=\"user\",password=\"pw\",host=\"host\")\n",
    "\n",
    "    sql= \"select geom, x,y,z from your_table\"\n",
    "\n",
    "    df=gpd.GeoDataFrame.from_postgis(sql,con,geom_col='geom')"
   ]
  },
  {
   "cell_type": "markdown",
   "metadata": {
    "collapsed": true
   },
   "source": [
    "# Wie weiter ?\n",
    "\n",
    "\n",
    "z.B. http://2018.geopython.net/#schedule\n",
    "-> z.B. 5 Stunden Workshops zu GeoPandas / Spatial Data Science mit GeoPandas\n",
    "\n"
   ]
  },
  {
   "cell_type": "code",
   "execution_count": null,
   "metadata": {
    "collapsed": true
   },
   "outputs": [],
   "source": []
  }
 ],
 "metadata": {
  "anaconda-cloud": {},
  "kernelspec": {
   "display_name": "Python [conda env:py35]",
   "language": "python",
   "name": "conda-env-py35-py"
  },
  "language_info": {
   "codemirror_mode": {
    "name": "ipython",
    "version": 3
   },
   "file_extension": ".py",
   "mimetype": "text/x-python",
   "name": "python",
   "nbconvert_exporter": "python",
   "pygments_lexer": "ipython3",
   "version": "3.5.5"
  }
 },
 "nbformat": 4,
 "nbformat_minor": 2
}
